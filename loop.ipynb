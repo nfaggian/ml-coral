{
 "cells": [
  {
   "cell_type": "markdown",
   "metadata": {},
   "source": [
    "# Deeplab\n",
    "\n",
    "Semantic segmentation applied to video camera background blurring. \n"
   ]
  },
  {
   "cell_type": "markdown",
   "metadata": {},
   "source": [
    "## Retrieve the models"
   ]
  },
  {
   "cell_type": "code",
   "execution_count": null,
   "metadata": {},
   "outputs": [],
   "source": []
  },
  {
   "cell_type": "code",
   "execution_count": 1,
   "metadata": {},
   "outputs": [],
   "source": [
    "import numpy as np\n",
    "import cv2\n",
    "import tflite_runtime.interpreter as tflite\n",
    "\n",
    "#MODEL = 'models/deeplabv3_mnv2_dm05_pascal_quant_edgetpu.tflite'\n",
    "#MODEL = 'models/deeplabv3_mnv2_pascal_quant_edgetpu.tflite'"
   ]
  },
  {
   "cell_type": "code",
   "execution_count": 17,
   "metadata": {},
   "outputs": [],
   "source": [
    "def build_model(model_path=MODEL):\n",
    "    \"\"\"\n",
    "    Forms the tensorflow lite model and configures the coral device.\n",
    "    \"\"\"\n",
    "    interpreter = tflite.Interpreter(\n",
    "        model_path=model_path,\n",
    "        experimental_delegates=[tflite.load_delegate(\"libedgetpu.so.1\")],\n",
    "    )\n",
    "\n",
    "    interpreter.allocate_tensors()\n",
    "\n",
    "    input_details = interpreter.get_input_details()\n",
    "    output_details = interpreter.get_output_details()\n",
    "\n",
    "    height = input_details[0][\"shape\"][1]\n",
    "    width = input_details[0][\"shape\"][2]\n",
    "\n",
    "    dims = (width, height)\n",
    "    return interpreter, input_details, output_details, dims\n",
    "\n",
    "\n",
    "def process_frame(frame, interpreter, input_details, output_details, dims):\n",
    "    \"\"\"\n",
    "    Use the CORAl edge TPU to process a frame. \n",
    "    \"\"\"\n",
    "    input_data = np.expand_dims(cv2.resize(cv2.cvtColor(frame, cv2.COLOR_BGR2RGB), dims), axis=0)\n",
    "   \n",
    "    interpreter.set_tensor(input_details[0]['index'], input_data)\n",
    "    interpreter.invoke()\n",
    "\n",
    "    output_data = interpreter.get_tensor(output_details[0]['index'])\n",
    "    return np.squeeze(output_data)\n",
    "\n",
    "\n",
    "def masked_frame(frame, mask, filter_size=(31, 31)):\n",
    "    \"\"\"\n",
    "    Use OpenCV to apply a background blur.\n",
    "    \"\"\"\n",
    "    \n",
    "    #resize the mask\n",
    "    mask = cv2.resize(mask.astype(np.uint8), (frame.shape[1], frame.shape[0]), interpolation=cv2.INTER_CUBIC)\n",
    "    mask = mask.repeat(3).reshape(mask.shape[0], mask.shape[1], 3)\n",
    "  \n",
    "    foreground = np.where(mask == 0, 0, frame).astype(float)\n",
    "    \n",
    "    background = cv2.cvtColor(cv2.GaussianBlur(frame,filter_size, 0), cv2.COLOR_BGR2GRAY)\n",
    "    background = cv2.cvtColor(background, cv2.COLOR_GRAY2RGB).astype(float)\n",
    "\n",
    "    binary_mask = np.where(mask > 0, 255, 0).astype(np.float)\n",
    "    alpha = cv2.GaussianBlur(binary_mask, filter_size, 0)\n",
    "    alpha = alpha.astype(float) / 255.\n",
    "      \n",
    "    blended = cv2.convertScaleAbs(background*(1-alpha) + foreground*alpha)\n",
    "        \n",
    "    return blended\n"
   ]
  },
  {
   "cell_type": "code",
   "execution_count": null,
   "metadata": {},
   "outputs": [],
   "source": [
    "model_params = build_model() \n",
    "capture = cv2.VideoCapture(0)\n",
    "\n",
    "while True:\n",
    "    ret, frame = capture.read()\n",
    "    mask = process_frame(frame, *model_params)    \n",
    "    cv2.imshow(\"video\", masked_frame(frame, mask))\n",
    "    if cv2.waitKey(1) == 27:\n",
    "        break\n",
    "\n",
    "capture.release()\n",
    "cv2.destroyAllWindows()"
   ]
  },
  {
   "cell_type": "code",
   "execution_count": null,
   "metadata": {},
   "outputs": [],
   "source": []
  }
 ],
 "metadata": {
  "kernelspec": {
   "display_name": "Python 3",
   "language": "python",
   "name": "python3"
  },
  "language_info": {
   "codemirror_mode": {
    "name": "ipython",
    "version": 3
   },
   "file_extension": ".py",
   "mimetype": "text/x-python",
   "name": "python",
   "nbconvert_exporter": "python",
   "pygments_lexer": "ipython3",
   "version": "3.7.7"
  }
 },
 "nbformat": 4,
 "nbformat_minor": 4
}
